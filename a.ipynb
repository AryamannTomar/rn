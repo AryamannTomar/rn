{
 "cells": [
  {
   "cell_type": "code",
   "execution_count": null,
   "metadata": {},
   "outputs": [],
   "source": [
    "a=[\n",
    "    '1_Working W Content',\n",
    "    '2_List Building W Style',\n",
    "    '3_Navigating Users Bw Screens',\n",
    "    '4_Building Reusable Components',\n",
    "    '5_State Management In React Components',\n",
    "    '6_Handling Screen Layout',\n",
    "    '7_Resturant Search App',\n",
    "    '8_Using Outside Apis',\n",
    "    '9_Making Hooks Reusable',\n",
    "    '10_Navigation W Parameters',\n",
    "    '11_Adv. State Management W Context',\n",
    "    '12_Data Api Sync',\n",
    "    '13_Building Custom Express Api',\n",
    "    '14_In-App Authentication',\n",
    "    '15_Old V. Course',\n",
    "    '16_Old V. Rn',\n",
    "    '17_Extras'\n",
    "]"
   ]
  },
  {
   "cell_type": "code",
   "execution_count": 4,
   "metadata": {},
   "outputs": [],
   "source": [
    "import os\n",
    "for dir_name in a:\n",
    "    if not os.path.exists(dir_name):\n",
    "        os.makedirs(dir_name)    \n",
    "        \n",
    "    file_path=os.path.join(dir_name, 'Notes.txt')\n",
    "    if not os.path.exists(file_path):\n",
    "        with open(file_path, 'w') as f:\n",
    "            f.write('') "
   ]
  },
  {
   "cell_type": "code",
   "execution_count": null,
   "metadata": {},
   "outputs": [],
   "source": []
  }
 ],
 "metadata": {
  "kernelspec": {
   "display_name": "Python 3",
   "language": "python",
   "name": "python3"
  },
  "language_info": {
   "codemirror_mode": {
    "name": "ipython",
    "version": 3
   },
   "file_extension": ".py",
   "mimetype": "text/x-python",
   "name": "python",
   "nbconvert_exporter": "python",
   "pygments_lexer": "ipython3",
   "version": "3.12.1"
  }
 },
 "nbformat": 4,
 "nbformat_minor": 2
}
