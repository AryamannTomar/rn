{
 "cells": [
  {
   "cell_type": "code",
   "execution_count": null,
   "metadata": {},
   "outputs": [
    {
     "name": "stdout",
     "output_type": "stream",
     "text": [
      "'1_Working_W_Content',\n",
      "'2_List_Building_W_Style',\n",
      "'3_Navigating_Users_Bw_Screens',\n",
      "'4_Building_Reusable_Components',\n",
      "'5_State_Management_In_React_Components',\n",
      "'6_Handling_Screen_Layout',\n",
      "'7_Resturant_Search_App',\n",
      "'8_Using_Outside_Apis',\n",
      "'9_Making_Hooks_Reusable',\n",
      "'10_Navigation_W_Parameters',\n",
      "'11_AdvState_Management_W_Context',\n",
      "'12_Data_Api_Sync',\n",
      "'13_Building_Custom_Express_Api',\n",
      "'14_In-App_Authentication',\n",
      "'15_Old_vCourse',\n",
      "'16_Old_vRn',\n",
      "'17_Extras',\n"
     ]
    }
   ],
   "source": [
    "a=[\n",
    "    '1_Working_W_Content',\n",
    "    '2_List_Building_W_Style',\n",
    "    '3_Navigating_Users_Bw_Screens',\n",
    "    '4_Building_Reusable_Components',\n",
    "    '5_State_Management_In_React_Components',\n",
    "    '6_Handling_Screen_Layout',\n",
    "    '7_Resturant_Search_App',\n",
    "    '8_Using_Outside_Apis',\n",
    "    '9_Making_Hooks_Reusable',\n",
    "    '10_Navigation_W_Parameters',\n",
    "    '11_AdvState_Management_W_Context',\n",
    "    '12_Data_Api_Sync',\n",
    "    '13_Building_Custom_Express_Api',\n",
    "    '14_In-App_Authentication',\n",
    "    '15_Old_vCourse',\n",
    "    '16_Old_vRn',\n",
    "    '17_Extras'\n",
    "]"
   ]
  },
  {
   "cell_type": "code",
   "execution_count": 4,
   "metadata": {},
   "outputs": [],
   "source": [
    "import os\n",
    "for dir_name in a:\n",
    "    if not os.path.exists(dir_name):\n",
    "        os.makedirs(dir_name)    \n",
    "        \n",
    "    file_path=os.path.join(dir_name, 'Notes.txt')\n",
    "    if not os.path.exists(file_path):\n",
    "        with open(file_path, 'w') as f:\n",
    "            f.write('') "
   ]
  },
  {
   "cell_type": "code",
   "execution_count": null,
   "metadata": {},
   "outputs": [],
   "source": []
  }
 ],
 "metadata": {
  "kernelspec": {
   "display_name": "Python 3",
   "language": "python",
   "name": "python3"
  },
  "language_info": {
   "codemirror_mode": {
    "name": "ipython",
    "version": 3
   },
   "file_extension": ".py",
   "mimetype": "text/x-python",
   "name": "python",
   "nbconvert_exporter": "python",
   "pygments_lexer": "ipython3",
   "version": "3.12.1"
  }
 },
 "nbformat": 4,
 "nbformat_minor": 2
}
